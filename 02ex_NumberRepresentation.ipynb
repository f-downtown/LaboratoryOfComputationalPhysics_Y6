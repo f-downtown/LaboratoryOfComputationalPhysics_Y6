{
 "cells": [
  {
   "cell_type": "markdown",
   "metadata": {},
   "source": [
    "1\\. Write a function that converts number representation, bin<->dec<->hex. (Clearly using the corresponding python built-in functions is not fair..)"
   ]
  },
  {
   "cell_type": "code",
   "execution_count": 136,
   "metadata": {},
   "outputs": [],
   "source": [
    "def dec_conv(a): \n",
    "    #define variables     \n",
    "    bin = ''\n",
    "    dec = str(a)\n",
    "    hex = ''\n",
    "    count = 0\n",
    "    hex_rep = ['a','b','c','d','e','f']\n",
    "    for i in [2, 16]:\n",
    "        b=a\n",
    "        j=0\n",
    "        while i**j <= a:\n",
    "            j += 1\n",
    "            len = j-1\n",
    "        while b!=0:\n",
    "            if i == 2:\n",
    "                bin = bin + str((b//(i**len)))\n",
    "            else i == 16:\n",
    "                if (b//(i**len)) in range(10,16):\n",
    "                    hex = hex + hex_rep[b//(i**len)-10]               \n",
    "                else:\n",
    "                    hex = hex + str((b//(i**len)))\n",
    "            b=b%(i**len)\n",
    "            len -= 1\n",
    "        count += 1\n",
    "    return bin, dec, hex\n",
    "def convert(a):\n",
    "    b = ''\n",
    "    #check format of string\n",
    "    if isdecimal(a):\n",
    "        conv = dec_conv(a)\n",
    "    elif a[0:2]=='0x':\n",
    "        for i in range(2,len(a)):\n",
    "            if a[i] in hex_rep = ['a','b','c','d','e','f']:\n",
    "                for j in range(5):\n",
    "                    if hex_rep[j] == a[i]:                     \n",
    "                        b = str(int(b) + (j+10)*16**(len(a)-(i+1))))  \n",
    "                    break              \n",
    "            else:\n",
    "                b = str(int(b) + int(a[i])*16**(len(a)-(i+1)))\n",
    "        conv = dec_conv(b)\n",
    "    else: \n",
    "        for i in range(len(a)):\n",
    "            b = str(int(b) + int(a[i])*2**(len(a)-(i+1)))\n",
    "        conv = dec_conv(b)\n",
    "    return conv  "
   ]
  },
  {
   "cell_type": "markdown",
   "metadata": {},
   "source": [
    "2\\. Write a function that converts a 32 bit word into a single precision floating point (i.e. interprets the various bits as sign, mantissa and exponent)"
   ]
  },
  {
   "cell_type": "code",
   "execution_count": 14,
   "metadata": {},
   "outputs": [
    {
     "data": {
      "text/plain": [
       "float"
      ]
     },
     "execution_count": 14,
     "metadata": {},
     "output_type": "execute_result"
    }
   ],
   "source": [
    "import numpy as np\n",
    "def spfloat(a):\n",
    "    exp=int(a[1:9],2)\n",
    "    return -1**int(a[0])*(1+sum([int(a[9+i])*2**(-1-i) for i in range(23)]))*2**(exp-127)"
   ]
  },
  {
   "cell_type": "markdown",
   "metadata": {},
   "source": [
    "3\\. Write a program to determine the underflow and overflow limits (within a factor of 2) for python on your computer. \n",
    "\n",
    "**Tips**: define two variables inizialized to 1 and halve/double them enough time to exceed the under/over-flow limits  "
   ]
  },
  {
   "cell_type": "code",
   "execution_count": 49,
   "metadata": {},
   "outputs": [
    {
     "data": {
      "text/plain": [
       "(5e-324,\n",
       " 179769313486231590772930519078902473361797697894230657273430081157732675805500963132708477322407536021120113879871393357658789768814416622492847430639474124377767893424865485276302219601246094119453082952085005768838150682342462881473913110540827237163350510684586298239947245938479716304835356329624224137216)"
      ]
     },
     "execution_count": 49,
     "metadata": {},
     "output_type": "execute_result"
    }
   ],
   "source": [
    "def limits():\n",
    "    a = 1.0\n",
    "    b = 1.0\n",
    "    count = 0\n",
    "    while a != 0.0:\n",
    "        a = a*0.5 \n",
    "        count += 1\n",
    "    underflow = float((1/2)**(count-1))\n",
    "    d=0.0\n",
    "    count = 0 \n",
    "    while b != d:\n",
    "        d = b\n",
    "        b = b*2\n",
    "        count += 1\n",
    "    overflow = 2**(count-1)\n",
    "    return underflow, overflow\n",
    "limits()"
   ]
  },
  {
   "cell_type": "markdown",
   "metadata": {},
   "source": [
    "4\\. Write a program to determine the machine precision\n",
    "\n",
    "**Tips**: define a new variable by adding a smaller and smaller value (proceeding similarly to prob. 2) to an original variable and check the point where the two are the same "
   ]
  },
  {
   "cell_type": "code",
   "execution_count": 51,
   "metadata": {},
   "outputs": [
    {
     "data": {
      "text/plain": [
       "1.1102230246251565e-16"
      ]
     },
     "execution_count": 51,
     "metadata": {},
     "output_type": "execute_result"
    }
   ],
   "source": [
    "def prec():\n",
    "    a = 1.0\n",
    "    b = 0.5\n",
    "    while a+b != a:\n",
    "        b = b/2\n",
    "    return b\n",
    "prec()"
   ]
  },
  {
   "cell_type": "markdown",
   "metadata": {},
   "source": [
    "5\\. Write a function that takes in input three parameters $a$, $b$ and $c$ and prints out the two solutions to the quadratic equation $ax^2+bx+c=0$ using the standard formula:\n",
    "$$\n",
    "x=\\frac{-b\\pm\\sqrt{b^2-4ac}}{2a}\n",
    "$$\n",
    "\n",
    "(a) use the program to compute the solution for $a=0.001$, $b=1000$ and $c=0.001$\n",
    "\n",
    "(b) re-express the standard solution formula by multiplying top and bottom by $-b\\mp\\sqrt{b^2-4ac}$ and again find the solution for $a=0.001$, $b=1000$ and $c=0.001$. How does it compare with what previously obtained? Why?\n",
    "\n",
    "(c) write a function that compute the roots of a quadratic equation accurately in all cases"
   ]
  },
  {
   "cell_type": "code",
   "execution_count": 61,
   "metadata": {},
   "outputs": [
    {
     "name": "stdout",
     "output_type": "stream",
     "text": [
      "(-9.999894245993345e-13, -0.999999999999) (-1000010.5755125057, -1.0000000000009999e-06)\n"
     ]
    }
   ],
   "source": [
    "#a&b\n",
    "def calc_a(a,b,c):\n",
    "    return ((-b+(b**2-4*a*c)**(1/2))/2*a, (-b-(b**2-4*a*c)**(1/2))/2*a)\n",
    "def calc_b(a,b,c):\n",
    "    return ((4*a*c)/(-2*a*(b-(b**2-4*a*c)**(1/2))), (4*a*c)/(-2*a*(b+(b**2-4*a*c)**(1/2))))\n",
    "print(calc_a(0.001,1000,0.001), calc_b(0.001,1000,0.001))\n",
    "#error is amplified over calculation \n",
    "#c \n",
    "def calc_c(a,b,c):\n",
    "    dsc = b*b-4*a*c\n",
    "    if dsc <= 0: \n",
    "        \n",
    "\n",
    "\n"
   ]
  },
  {
   "cell_type": "markdown",
   "metadata": {},
   "source": [
    "6\\. Write a program that implements the function $f(x)=x(x−1)$\n",
    "\n",
    "(a) Calculate the derivative of the function at the point $x = 1$ using the derivative definition:\n",
    "\n",
    "$$\n",
    "\\frac{{\\rm d}f}{{\\rm d}x} = \\lim_{\\delta\\to0} \\frac{f(x+\\delta)-f(x)}{\\delta}\n",
    "$$\n",
    "\n",
    "with $\\delta = 10^{−2}$. Calculate the true value of the same derivative analytically and compare with the answer your program gives. The two will not agree perfectly. Why not?\n",
    "\n",
    "(b) Repeat the calculation for $\\delta = 10^{−4}, 10^{−6}, 10^{−8}, 10^{−10}, 10^{−12}$ and $10^{−14}$. How does the accuracy scales with $\\delta$?"
   ]
  },
  {
   "cell_type": "code",
   "execution_count": 79,
   "metadata": {},
   "outputs": [
    {
     "data": {
      "text/plain": [
       "[9.999999988985486e-05,\n",
       " 9.99917733279787e-07,\n",
       " 3.922528746258536e-09,\n",
       " 8.284037100736441e-08,\n",
       " 8.890058334132256e-05,\n",
       " -0.0007992778373491216]"
      ]
     },
     "execution_count": 79,
     "metadata": {},
     "output_type": "execute_result"
    }
   ],
   "source": [
    "def func():\n",
    "    def f(x):\n",
    "        return x*(x-1)\n",
    "    d = [10**(-i) for i in range(4,15) if i%2 ==0]\n",
    "    df = map(lambda y : (f(1+y)-f(1))/y, d)\n",
    "    return [i-1 for i in df]\n",
    "func()\n",
    "# np perfect result du to rounding errors probably in the function and in the derivative calculation \n",
    "# max. accuracy for d around 10^(-8)"
   ]
  },
  {
   "cell_type": "markdown",
   "metadata": {},
   "source": [
    "7\\. Consider the integral of the semicircle of radius 1:\n",
    "$$\n",
    "I=\\int_{-1}^{1} \\sqrt(1-x^2) {\\rm d}x\n",
    "$$\n",
    "which it's known to be $I=\\frac{\\pi}{2}=1.57079632679...$.\n",
    "Alternatively we can use the Riemann definition of the integral:\n",
    "$$\n",
    "I=\\lim_{N\\to\\infty} \\sum_{k=1}^{N} h y_k \n",
    "$$\n",
    "\n",
    "with $h=2/N$ the width of each of the $N$ slices the domain is divided into and where\n",
    "$y_k$ is the value of the function at the $k-$th slice.\n",
    "\n",
    "(a) Write a programe to compute the integral with $N=100$. How does the result compares to the true value?\n",
    "\n",
    "(b) How much can $N$ be increased if the computation needs to be run in less than a second? What is the gain in running it for 1 minute? \n"
   ]
  },
  {
   "cell_type": "code",
   "execution_count": 101,
   "metadata": {},
   "outputs": [
    {
     "name": "stdout",
     "output_type": "stream",
     "text": [
      "1.5707963276207697\n"
     ]
    }
   ],
   "source": [
    "#a\n",
    "import numpy as np\n",
    "def integral(func, n):\n",
    "    h = 2/n\n",
    "    intval = np.arange(-1,1,h)\n",
    "    return h*sum((map(func, intval)))\n",
    "def func(x):\n",
    "     return (1-x**2)**(1/2)\n",
    "#b\n",
    "import time\n",
    "end=0\n",
    "start= 0\n",
    "n= 100\n",
    "while (end - start) < 1:\n",
    "    start = time.time()\n",
    "    integral(func, n)\n",
    "    end = time.time()\n",
    "    n = n*10\n"
   ]
  },
  {
   "cell_type": "code",
   "execution_count": null,
   "metadata": {},
   "outputs": [],
   "source": []
  }
 ],
 "metadata": {
  "kernelspec": {
   "display_name": "Python 3 (ipykernel)",
   "language": "python",
   "name": "python3"
  },
  "language_info": {
   "codemirror_mode": {
    "name": "ipython",
    "version": 3
   },
   "file_extension": ".py",
   "mimetype": "text/x-python",
   "name": "python",
   "nbconvert_exporter": "python",
   "pygments_lexer": "ipython3",
   "version": "3.11.0"
  }
 },
 "nbformat": 4,
 "nbformat_minor": 2
}
