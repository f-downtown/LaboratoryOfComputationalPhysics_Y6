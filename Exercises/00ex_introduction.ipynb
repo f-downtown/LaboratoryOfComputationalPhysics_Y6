{
 "cells": [
  {
   "attachments": {},
   "cell_type": "markdown",
   "metadata": {},
   "source": [
    "1. The MickeyMouse problem\n",
    "\n",
    "a) Write a program that prints the numbers from 1 to 100. But for multiples of 3 print `Mickey` instead of the corresponding number and for the multiples of 5 print `Mouse`. For numbers which are multiples of both three and five print `MickeyMouse`\n",
    "\n",
    "b) Put the result in a tuple and substitute `Mickey` with `Donald` and `Mouse` with `Duck`"
   ]
  },
  {
   "cell_type": "code",
   "execution_count": 1,
   "metadata": {},
   "outputs": [
    {
     "name": "stdout",
     "output_type": "stream",
     "text": [
      "1\n",
      "2\n",
      "Mickey\n",
      "4\n",
      "Mouse\n",
      "Mickey\n",
      "7\n",
      "8\n",
      "Mickey\n",
      "Mouse\n",
      "11\n",
      "Mickey\n",
      "13\n",
      "14\n",
      "MickeyMouse\n",
      "Mickey\n",
      "16\n",
      "17\n",
      "Mickey\n",
      "19\n",
      "Mouse\n",
      "Mickey\n",
      "22\n",
      "23\n",
      "Mickey\n",
      "Mouse\n",
      "26\n",
      "Mickey\n",
      "28\n",
      "29\n",
      "MickeyMouse\n",
      "Mickey\n",
      "31\n",
      "32\n",
      "Mickey\n",
      "34\n",
      "Mouse\n",
      "Mickey\n",
      "37\n",
      "38\n",
      "Mickey\n",
      "Mouse\n",
      "41\n",
      "Mickey\n",
      "43\n",
      "44\n",
      "MickeyMouse\n",
      "Mickey\n",
      "46\n",
      "47\n",
      "Mickey\n",
      "49\n",
      "Mouse\n",
      "Mickey\n",
      "52\n",
      "53\n",
      "Mickey\n",
      "Mouse\n",
      "56\n",
      "Mickey\n",
      "58\n",
      "59\n",
      "MickeyMouse\n",
      "Mickey\n",
      "61\n",
      "62\n",
      "Mickey\n",
      "64\n",
      "Mouse\n",
      "Mickey\n",
      "67\n",
      "68\n",
      "Mickey\n",
      "Mouse\n",
      "71\n",
      "Mickey\n",
      "73\n",
      "74\n",
      "MickeyMouse\n",
      "Mickey\n",
      "76\n",
      "77\n",
      "Mickey\n",
      "79\n",
      "Mouse\n",
      "Mickey\n",
      "82\n",
      "83\n",
      "Mickey\n",
      "Mouse\n",
      "86\n",
      "Mickey\n",
      "88\n",
      "89\n",
      "MickeyMouse\n",
      "Mickey\n",
      "91\n",
      "92\n",
      "Mickey\n",
      "94\n",
      "Mouse\n",
      "Mickey\n",
      "97\n",
      "98\n",
      "Mickey\n",
      "Mouse\n",
      "[1, 2, 'Mickey', 4, 'Mouse', 'Mickey', 7, 8, 'Mickey', 'Mouse', 11, 'Mickey', 13, 14, 'MickeyMouse', 'Mickey', 16, 17, 'Mickey', 19, 'Mouse', 'Mickey', 22, 23, 'Mickey', 'Mouse', 26, 'Mickey', 28, 29, 'MickeyMouse', 'Mickey', 31, 32, 'Mickey', 34, 'Mouse', 'Mickey', 37, 38, 'Mickey', 'Mouse', 41, 'Mickey', 43, 44, 'MickeyMouse', 'Mickey', 46, 47, 'Mickey', 49, 'Mouse', 'Mickey', 52, 53, 'Mickey', 'Mouse', 56, 'Mickey', 58, 59, 'MickeyMouse', 'Mickey', 61, 62, 'Mickey', 64, 'Mouse', 'Mickey', 67, 68, 'Mickey', 'Mouse', 71, 'Mickey', 73, 74, 'MickeyMouse', 'Mickey', 76, 77, 'Mickey', 79, 'Mouse', 'Mickey', 82, 83, 'Mickey', 'Mouse', 86, 'Mickey', 88, 89, 'MickeyMouse', 'Mickey', 91, 92, 'Mickey', 94, 'Mouse', 'Mickey', 97, 98, 'Mickey', 'Mouse']\n"
     ]
    }
   ],
   "source": [
    "#ex. 1 a\n",
    "for i in range(1,101):\n",
    "    if i%3 ==0:\n",
    "        if i%5 ==0:\n",
    "            print('MickeyMouse')\n",
    "        print('Mickey')\n",
    "    elif i%5 ==0:\n",
    "        print('Mouse')\n",
    "    else:\n",
    "        print(i)\n",
    "#ex.1b\n",
    "a=[]\n",
    "for i in range(1,101):\n",
    "    if i%3 ==0:\n",
    "        if i%5 ==0:\n",
    "            a.append('MickeyMouse')\n",
    "        a.append('Mickey')\n",
    "    elif i%5 ==0:\n",
    "        a.append('Mouse')\n",
    "    else:\n",
    "        a.append(i)\n",
    "for i in a:\n",
    "    if i=='Mickey':\n",
    "        i='Donald'\n",
    "    elif i=='Mouse':\n",
    "        i= 'Duck'\n",
    "    elif i =='MickeyMouse':\n",
    "        i='DonaldDuck' \n",
    "print(a)"
   ]
  },
  {
   "attachments": {},
   "cell_type": "markdown",
   "metadata": {},
   "source": [
    "2\\. The swap function\n",
    "\n",
    "Write a function that swap the values of two input variables x and y (whatever the type). Try to do that also without a temporary variable"
   ]
  },
  {
   "cell_type": "code",
   "execution_count": 28,
   "metadata": {},
   "outputs": [
    {
     "data": {
      "text/plain": [
       "(4, 3)"
      ]
     },
     "execution_count": 28,
     "metadata": {},
     "output_type": "execute_result"
    }
   ],
   "source": [
    "#way 1\n",
    "def swap(x,y):\n",
    "    temp = x\n",
    "    x = y\n",
    "    y = temp\n",
    "    return x, y\n",
    "#way 2\n",
    "x,y = y,x\n"
   ]
  },
  {
   "attachments": {},
   "cell_type": "markdown",
   "metadata": {},
   "source": [
    "3\\. Computing the distance\n",
    "\n",
    "Write a function that calculates and returns the euclidean distance between two points *u* and *v*, where *u* and *v* are both 2-tuples *(x,y)*. For example, if *u=(3,0)* and *v=(0,4)*, the function should return 5"
   ]
  },
  {
   "cell_type": "code",
   "execution_count": 3,
   "metadata": {},
   "outputs": [],
   "source": [
    "#ex.3\n",
    "import numpy as np\n",
    "def dist(a,b):\n",
    "    return np.sqrt((a[0]-b[0])**2+(a[1]-b[1])**2)\n"
   ]
  },
  {
   "attachments": {},
   "cell_type": "markdown",
   "metadata": {},
   "source": [
    "4\\. Counting letters\n",
    "\n",
    "Write a program to calculate the number of times each character occurs in a given string *s*. Ignore differneces in capitalization"
   ]
  },
  {
   "cell_type": "code",
   "execution_count": 4,
   "metadata": {},
   "outputs": [
    {
     "data": {
      "text/plain": [
       "{'W': 2,\n",
       " 'r': 17,\n",
       " 'i': 14,\n",
       " 't': 19,\n",
       " 'e': 22,\n",
       " ' ': 41,\n",
       " 'a': 7,\n",
       " 'p': 8,\n",
       " 'o': 13,\n",
       " 'g': 1,\n",
       " 'm': 12,\n",
       " 'h': 9,\n",
       " 'n': 10,\n",
       " 's': 9,\n",
       " 'u': 9,\n",
       " 'b': 5,\n",
       " 'f': 10,\n",
       " '1': 2,\n",
       " '0': 2,\n",
       " '.': 2,\n",
       " 'l': 6,\n",
       " 'c': 3,\n",
       " 'k': 2,\n",
       " 'y': 2,\n",
       " 'd': 3,\n",
       " 'v': 2}"
      ]
     },
     "execution_count": 4,
     "metadata": {},
     "output_type": "execute_result"
    }
   ],
   "source": [
    "s=\"Write a program that prints the numbers from 1 to 100. \\\n",
    "But for multiples of three print Mickey instead of the number and for the multiples of five print Mouse. \\\n",
    "For numbers which are multiples of both three and five print MickeyMouse\"\n",
    "def counter(str):\n",
    "    a={}\n",
    "    for i in str:\n",
    "        if i.lower() not in a and i.upper() not in a:\n",
    "            if i.lower() == i.upper(): \n",
    "                a[i]=str.count(i)\n",
    "                while i in str: \n",
    "                    str = str.replace(i,'')\n",
    "            else: \n",
    "                a[i]=str.count(i.lower())+str.count(i.upper())\n",
    "                while i.lower() in str or i.upper() in str:\n",
    "                    str = str.replace(i.lower(),'')\n",
    "                    str = str.replace(i.upper(),'') \n",
    "    return a\n",
    "    \n",
    "counter(s)"
   ]
  },
  {
   "attachments": {},
   "cell_type": "markdown",
   "metadata": {},
   "source": [
    "5\\. Isolating the unique\n",
    "\n",
    "Write a function that determines and count the unique numbers in the list *l*"
   ]
  },
  {
   "cell_type": "code",
   "execution_count": 5,
   "metadata": {},
   "outputs": [
    {
     "data": {
      "text/plain": [
       "[(36, 3),\n",
       " (58, 1),\n",
       " (74, 1),\n",
       " (64, 1),\n",
       " (31, 2),\n",
       " (24, 1),\n",
       " (33, 1),\n",
       " (99, 1),\n",
       " (63, 2),\n",
       " (85, 3),\n",
       " (56, 2),\n",
       " (70, 3),\n",
       " (55, 1),\n",
       " (54, 1),\n",
       " (51, 3),\n",
       " (81, 1),\n",
       " (37, 1),\n",
       " (1, 1),\n",
       " (84, 4),\n",
       " (50, 2),\n",
       " (91, 3),\n",
       " (98, 1),\n",
       " (16, 1),\n",
       " (92, 1),\n",
       " (45, 3),\n",
       " (94, 1),\n",
       " (3, 2),\n",
       " (87, 1),\n",
       " (53, 1),\n",
       " (89, 2)]"
      ]
     },
     "execution_count": 5,
     "metadata": {},
     "output_type": "execute_result"
    }
   ],
   "source": [
    "l = [36, 45, 58, 3, 74, 96, 64, 45, 31, 10, 24, 19, 33, 86, 99, 18, 63, 70, 85,\n",
    " 85, 63, 47, 56, 42, 70, 84, 88, 55, 20, 54, 8, 56, 51, 79, 81, 57, 37, 91,\n",
    " 1, 84, 84, 36, 66, 9, 89, 50, 42, 91, 50, 95, 90, 98, 39, 16, 82, 31, 92, 41,\n",
    " 45, 30, 66, 70, 34, 85, 94, 5, 3, 36, 72, 91, 84, 34, 87, 75, 53, 51, 20, 89, 51, 20]\n",
    "\n",
    "def unique(list):\n",
    "    a=[]\n",
    "    for i in list:\n",
    "        a.append((i,list.count(i)))\n",
    "        while i in list:\n",
    "            list.remove(i)\n",
    "    return a\n",
    "unique(l)"
   ]
  },
  {
   "attachments": {},
   "cell_type": "markdown",
   "metadata": {},
   "source": [
    "6\\. Combination of functions\n",
    "\n",
    "Write two functions - one that returns the square of a number, and one that returns the cube. Now write a third function that returns the number raised to the 6th power using the two previous functions."
   ]
  },
  {
   "cell_type": "code",
   "execution_count": 6,
   "metadata": {},
   "outputs": [],
   "source": [
    "def square(a):\n",
    "    return a**2\n",
    "def cube(a):\n",
    "    return a**3\n",
    "def sxth(a):\n",
    "    return cube(square(a))"
   ]
  },
  {
   "attachments": {},
   "cell_type": "markdown",
   "metadata": {},
   "source": [
    "7\\. Cubes\n",
    "\n",
    "Create a list of the cubes of x for x in *[0, 10]* using:\n",
    "\n",
    "a) a for loop\n",
    "\n",
    "b) a list comprehension"
   ]
  },
  {
   "cell_type": "code",
   "execution_count": 7,
   "metadata": {},
   "outputs": [],
   "source": [
    "#ex.7\n",
    "a=[]\n",
    "for i in range(11):\n",
    "    a.append(i**3)\n",
    "b=[i**3 for i in range(11)]\n",
    "\n"
   ]
  },
  {
   "attachments": {},
   "cell_type": "markdown",
   "metadata": {},
   "source": [
    "8\\. Nested list comprehension\n",
    "\n",
    "A Pythagorean triple is an integer solution to the Pythagorean theorem $a^2+b^2=c^2$. The first Pythagorean triple is (3,4,5). Find and put in a tuple all unique Pythagorean triples for the positive integers a, b and c less than 100."
   ]
  },
  {
   "cell_type": "code",
   "execution_count": 8,
   "metadata": {},
   "outputs": [],
   "source": [
    "list = [(a,b,c) for a in range(1,101) for b in range (a+1,101) for c in range (b+1,101) if a**2+b**2==c**2]"
   ]
  },
  {
   "attachments": {},
   "cell_type": "markdown",
   "metadata": {},
   "source": [
    "9\\. Normalization\n",
    "\n",
    "Write a function that takes a tuple of numbers and returns it with the entries normalized to one"
   ]
  },
  {
   "cell_type": "code",
   "execution_count": 13,
   "metadata": {},
   "outputs": [
    {
     "data": {
      "text/plain": [
       "[0.0, 0.1875, 0.0625, 1.0]"
      ]
     },
     "execution_count": 13,
     "metadata": {},
     "output_type": "execute_result"
    }
   ],
   "source": [
    "def norm(a):\n",
    "    a = [(i - min(a))/(max(a)-min(a)) for i in a]\n",
    "    return a\n",
    "norm((2,5,3,18))"
   ]
  },
  {
   "cell_type": "code",
   "execution_count": null,
   "metadata": {},
   "outputs": [],
   "source": []
  }
 ],
 "metadata": {
  "kernelspec": {
   "display_name": "Python 3 (ipykernel)",
   "language": "python",
   "name": "python3"
  },
  "language_info": {
   "codemirror_mode": {
    "name": "ipython",
    "version": 3
   },
   "file_extension": ".py",
   "mimetype": "text/x-python",
   "name": "python",
   "nbconvert_exporter": "python",
   "pygments_lexer": "ipython3",
   "version": "3.11.0"
  }
 },
 "nbformat": 4,
 "nbformat_minor": 2
}
