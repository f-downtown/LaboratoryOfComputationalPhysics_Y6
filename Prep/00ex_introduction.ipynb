{
 "cells": [
  {
   "cell_type": "markdown",
   "metadata": {},
   "source": [
    "1. The MickeyMouse problem\n",
    "\n",
    "a) Write a program that prints the numbers from 1 to 100. But for multiples of 3 print `Mickey` instead of the corresponding number and for the multiples of 5 print `Mouse`. For numbers which are multiples of both three and five print `MickeyMouse`\n",
    "\n",
    "b) Put the result in a tuple and substitute `Mickey` with `Donald` and `Mouse` with `Duck`"
   ]
  },
  {
   "cell_type": "markdown",
   "metadata": {},
   "source": [
    "2\\. The swap function\n",
    "\n",
    "Write a function that swap the values of two input variables x and y (whatever the type). Try to do that also without a temporary variable"
   ]
  },
  {
   "cell_type": "markdown",
   "metadata": {},
   "source": [
    "3\\. Computing the distance\n",
    "\n",
    "Write a function that calculates and returns the euclidean distance between two points *u* and *v*, where *u* and *v* are both 2-tuples *(x,y)*. For example, if *u=(3,0)* and *v=(0,4)*, the function should return 5"
   ]
  },
  {
   "cell_type": "markdown",
   "metadata": {},
   "source": [
    "4\\. Counting letters\n",
    "\n",
    "Write a program to calculate the number of times each character occurs in a given string *s*. Ignore differneces in capitalization"
   ]
  },
  {
   "cell_type": "code",
   "execution_count": 38,
   "metadata": {},
   "outputs": [
    {
     "data": {
      "text/plain": [
       "{'W': 2,\n",
       " 'r': 17,\n",
       " 'i': 14,\n",
       " 't': 19,\n",
       " 'e': 22,\n",
       " ' ': 41,\n",
       " 'a': 7,\n",
       " 'p': 8,\n",
       " 'o': 13,\n",
       " 'g': 1,\n",
       " 'm': 12,\n",
       " 'h': 9,\n",
       " 'n': 10,\n",
       " 's': 9,\n",
       " 'u': 9,\n",
       " 'b': 5,\n",
       " 'f': 10,\n",
       " '1': 2,\n",
       " '0': 2,\n",
       " '.': 2,\n",
       " 'l': 6,\n",
       " 'c': 3,\n",
       " 'k': 2,\n",
       " 'y': 2,\n",
       " 'd': 3,\n",
       " 'v': 2}"
      ]
     },
     "execution_count": 38,
     "metadata": {},
     "output_type": "execute_result"
    }
   ],
   "source": [
    "s=\"Write a program that prints the numbers from 1 to 100. \\\n",
    "But for multiples of three print Mickey instead of the number and for the multiples of five print Mouse. \\\n",
    "For numbers which are multiples of both three and five print MickeyMouse\"\n",
    "\n",
    "def count(str):\n",
    "    a = {}\n",
    "    for i in str:\n",
    "        if i.lower() not in a and i.upper() not in a:\n",
    "            if i.lower() == i.upper(): \n",
    "                a[i]=str.count(i)\n",
    "                while i in str: \n",
    "                    str = str.replace(i,'')\n",
    "            else:\n",
    "                a[i] = str.count(i.lower())+str.count(i.upper())\n",
    "                while i.lower() in str or i.upper() in str:\n",
    "                        str = str.replace(i.lower(),'')\n",
    "                        str = str.replace(i.upper(),'') \n",
    "    return a\n",
    "\n",
    "count(s)"
   ]
  },
  {
   "cell_type": "markdown",
   "metadata": {},
   "source": [
    "5\\. Isolating the unique\n",
    "\n",
    "Write a function that determines and count the unique numbers in the list *l*"
   ]
  },
  {
   "cell_type": "code",
   "execution_count": 41,
   "metadata": {},
   "outputs": [
    {
     "data": {
      "text/plain": [
       "{36: 3,\n",
       " 58: 1,\n",
       " 74: 1,\n",
       " 64: 1,\n",
       " 31: 2,\n",
       " 24: 1,\n",
       " 33: 1,\n",
       " 99: 1,\n",
       " 63: 2,\n",
       " 85: 3,\n",
       " 56: 2,\n",
       " 70: 3,\n",
       " 55: 1,\n",
       " 54: 1,\n",
       " 51: 3,\n",
       " 81: 1,\n",
       " 37: 1,\n",
       " 1: 1,\n",
       " 84: 4,\n",
       " 50: 2,\n",
       " 91: 3,\n",
       " 98: 1,\n",
       " 16: 1,\n",
       " 92: 1,\n",
       " 45: 3,\n",
       " 94: 1,\n",
       " 3: 2,\n",
       " 87: 1,\n",
       " 53: 1,\n",
       " 89: 2}"
      ]
     },
     "execution_count": 41,
     "metadata": {},
     "output_type": "execute_result"
    }
   ],
   "source": [
    "l = [36, 45, 58, 3, 74, 96, 64, 45, 31, 10, 24, 19, 33, 86, 99, 18, 63, 70, 85,\n",
    " 85, 63, 47, 56, 42, 70, 84, 88, 55, 20, 54, 8, 56, 51, 79, 81, 57, 37, 91,\n",
    " 1, 84, 84, 36, 66, 9, 89, 50, 42, 91, 50, 95, 90, 98, 39, 16, 82, 31, 92, 41,\n",
    " 45, 30, 66, 70, 34, 85, 94, 5, 3, 36, 72, 91, 84, 34, 87, 75, 53, 51, 20, 89, 51, 20]\n",
    "def count(lst):\n",
    "    a = {}\n",
    "    for i in lst:\n",
    "        a[i] = lst.count(i)\n",
    "        while i in lst:\n",
    "            lst.remove(i)\n",
    "    return a\n",
    "count(l)"
   ]
  },
  {
   "cell_type": "markdown",
   "metadata": {},
   "source": [
    "6\\. Combination of functions\n",
    "\n",
    "Write two functions - one that returns the square of a number, and one that returns the cube. Now write a third function that returns the number raised to the 6th power using the two previous functions."
   ]
  },
  {
   "cell_type": "code",
   "execution_count": 45,
   "metadata": {},
   "outputs": [
    {
     "data": {
      "text/plain": [
       "729"
      ]
     },
     "execution_count": 45,
     "metadata": {},
     "output_type": "execute_result"
    }
   ],
   "source": [
    "def sqr(x):\n",
    "    return x*x\n",
    "def cub(x):\n",
    "    return x**3\n",
    "def sxt(x):\n",
    "    return cub(sqr(x))\n",
    "sxt(3)"
   ]
  },
  {
   "cell_type": "markdown",
   "metadata": {},
   "source": [
    "7\\. Cubes\n",
    "\n",
    "Create a list of the cubes of x for x in *[0, 10]* using:\n",
    "\n",
    "a) a for loop\n",
    "\n",
    "b) a list comprehension"
   ]
  },
  {
   "cell_type": "code",
   "execution_count": 49,
   "metadata": {},
   "outputs": [
    {
     "name": "stdout",
     "output_type": "stream",
     "text": [
      "[0, 1, 8, 27, 64, 125, 216, 343, 512, 729, 1000]\n",
      "[0, 1, 8, 27, 64, 125, 216, 343, 512, 729, 1000]\n"
     ]
    }
   ],
   "source": [
    "#a \n",
    "a =[]\n",
    "for i in range(11):\n",
    "    a.append(cub(i))\n",
    "print(a)\n",
    "#b\n",
    "b = [i**3 for i in range(11)]\n",
    "print(b)"
   ]
  },
  {
   "cell_type": "markdown",
   "metadata": {},
   "source": [
    "8\\. Nested list comprehension\n",
    "\n",
    "A Pythagorean triple is an integer solution to the Pythagorean theorem $a^2+b^2=c^2$. The first Pythagorean triple is (3,4,5). Find and put in a tuple all unique Pythagorean triples for the positive integers a, b and c less than 100."
   ]
  },
  {
   "cell_type": "code",
   "execution_count": 56,
   "metadata": {},
   "outputs": [
    {
     "name": "stdout",
     "output_type": "stream",
     "text": [
      "[(3, 4, 5), (5, 12, 13), (6, 8, 10), (7, 24, 25), (8, 15, 17), (9, 12, 15), (9, 40, 41), (10, 24, 26), (11, 60, 61), (12, 16, 20), (12, 35, 37), (13, 84, 85), (14, 48, 50), (15, 20, 25), (15, 36, 39), (16, 30, 34), (16, 63, 65), (18, 24, 30), (18, 80, 82), (20, 21, 29), (20, 48, 52), (21, 28, 35), (21, 72, 75), (24, 32, 40), (24, 45, 51), (24, 70, 74), (25, 60, 65), (27, 36, 45), (28, 45, 53), (28, 96, 100), (30, 40, 50), (30, 72, 78), (32, 60, 68), (33, 44, 55), (33, 56, 65), (35, 84, 91), (36, 48, 60), (36, 77, 85), (39, 52, 65), (39, 80, 89), (40, 42, 58), (40, 75, 85), (42, 56, 70), (45, 60, 75), (48, 55, 73), (48, 64, 80), (51, 68, 85), (54, 72, 90), (57, 76, 95), (60, 63, 87), (60, 80, 100), (65, 72, 97)]\n"
     ]
    }
   ],
   "source": [
    "a = [(i,j,k) for i in range(1,101) for j in range(i,101) for k in range(j,101) if i**2+j**2 == k**2]\n",
    "print(a)\n"
   ]
  },
  {
   "cell_type": "markdown",
   "metadata": {},
   "source": [
    "9\\. Normalization\n",
    "\n",
    "Write a function that takes a tuple of numbers and returns it with the entries normalized to one"
   ]
  },
  {
   "cell_type": "code",
   "execution_count": 62,
   "metadata": {},
   "outputs": [
    {
     "data": {
      "text/plain": [
       "[5.790220317883095e-05,\n",
       " 0.0,\n",
       " 0.0001158044063576619,\n",
       " 0.00034741321907298575,\n",
       " 0.000665875336556556,\n",
       " 1.0,\n",
       " 0.00028951101589415475,\n",
       " 0.0013607017747025274]"
      ]
     },
     "execution_count": 62,
     "metadata": {},
     "output_type": "execute_result"
    }
   ],
   "source": [
    "def norm(x):\n",
    "    return [(i-min(x))/(max(x)-min(x)) for i in x]"
   ]
  },
  {
   "cell_type": "code",
   "execution_count": null,
   "metadata": {},
   "outputs": [],
   "source": []
  }
 ],
 "metadata": {
  "kernelspec": {
   "display_name": "Python 3 (ipykernel)",
   "language": "python",
   "name": "python3"
  },
  "language_info": {
   "codemirror_mode": {
    "name": "ipython",
    "version": 3
   },
   "file_extension": ".py",
   "mimetype": "text/x-python",
   "name": "python",
   "nbconvert_exporter": "python",
   "pygments_lexer": "ipython3",
   "version": "3.9.7"
  }
 },
 "nbformat": 4,
 "nbformat_minor": 2
}
