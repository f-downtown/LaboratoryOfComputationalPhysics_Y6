{
 "cells": [
  {
   "cell_type": "markdown",
   "id": "b5746bd0",
   "metadata": {},
   "source": [
    "The following exercises are meant to be solved by gathering the bash commands incrimentally in two scripts, one for ex 1.* the other for ex 2.* "
   ]
  },
  {
   "cell_type": "markdown",
   "id": "4e60de78",
   "metadata": {},
   "source": [
    "### Ex 1"
   ]
  },
  {
   "cell_type": "markdown",
   "id": "6759df36",
   "metadata": {},
   "source": [
    "1\\.a Make a new directory called `students` in your home. Download a csv file with the list of students of this lab from [here](https://www.dropbox.com/s/867rtx3az6e9gm8/LCP_22-23_students.csv) (use the `wget` command) and copy that to `students`. First check whether the file is already there"
   ]
  },
  {
   "cell_type": "code",
   "execution_count": null,
   "id": "82e0731d",
   "metadata": {
    "vscode": {
     "languageId": "shellscript"
    }
   },
   "outputs": [],
   "source": [
    "mkdir students1\n",
    "cd students1\n",
    "dir students1\n",
    "wget https://www.dropbox.com/s/867rtx3az6e9gm8/LCP_22-23_students.csv"
   ]
  },
  {
   "cell_type": "markdown",
   "id": "798c0c9d",
   "metadata": {},
   "source": [
    "1\\.b Make two new files, one containing the students belonging to PoD, the other to Physics."
   ]
  },
  {
   "cell_type": "code",
   "execution_count": null,
   "id": "ff85e865",
   "metadata": {
    "vscode": {
     "languageId": "shellscript"
    }
   },
   "outputs": [],
   "source": [
    "touch PoD\n",
    "grep -i \"PoD\" LCP_22-23_students.csv >> PoD\n",
    "touch Physics\n",
    "grep -i \"Physics\" LCP_22-23_students.csv >> Physics"
   ]
  },
  {
   "cell_type": "markdown",
   "id": "8a43d622",
   "metadata": {},
   "source": [
    "1\\.c For each letter of the alphabet, count the number of students whose surname starts with that letter. "
   ]
  },
  {
   "cell_type": "code",
   "execution_count": 1,
   "id": "db5e4d48",
   "metadata": {
    "vscode": {
     "languageId": "shellscript"
    }
   },
   "outputs": [
    {
     "ename": "SyntaxError",
     "evalue": "invalid decimal literal (1575255014.py, line 9)",
     "output_type": "error",
     "traceback": [
      "\u001b[1;36m  Cell \u001b[1;32mIn[1], line 9\u001b[1;36m\u001b[0m\n\u001b[1;33m    done < <(tail -n +2 LCP_22-23_students.csv | cut -d ',' -f 1)\u001b[0m\n\u001b[1;37m                                 ^\u001b[0m\n\u001b[1;31mSyntaxError\u001b[0m\u001b[1;31m:\u001b[0m invalid decimal literal\n"
     ]
    }
   ],
   "source": [
    "\n",
    "#!/bin/bash\n",
    "declare -A char_counts\n",
    "for i in {A..Z}; do\n",
    "  counter=0\n",
    "  while IFS=, read -r A _; do\n",
    "    if [[ ${A:0:1} == $i ]]; then\n",
    "      ((counter=counter+1))\n",
    "    fi\n",
    "  done < <(tail -n +2 LCP_22-23_students.csv | cut -d ',' -f 1)\n",
    "  char_counts[\"$i\"]=$counter\n",
    "done"
   ]
  },
  {
   "cell_type": "markdown",
   "id": "4ba6bc90",
   "metadata": {},
   "source": [
    "1\\.d Find out which is the letter with most counts."
   ]
  },
  {
   "cell_type": "code",
   "execution_count": null,
   "id": "b882428a",
   "metadata": {
    "vscode": {
     "languageId": "shellscript"
    }
   },
   "outputs": [],
   "source": [
    "echo \"\" > ct\n",
    "touch maxval\n",
    "max=0\n",
    "for i in {A..Z}; do\n",
    "  echo \"$i : ${char_counts[$i]}\" >> ct\n",
    "  if [[ \"${char_counts[$i]}\" -gt \"$max\" ]]; then\n",
    "    max=${char_counts[$i]}\n",
    "  fi\n",
    "done\n",
    "echo \"$max\" > maxval"
   ]
  },
  {
   "cell_type": "markdown",
   "id": "086a043c",
   "metadata": {},
   "source": [
    "1\\.e Assume an obvious numbering of the students in the file (first line is 1, second line is 2, etc.), group students \"modulo 18\", i.e. 1,19,37,.. 2,20,38,.. etc. and put each group in a separate file  "
   ]
  },
  {
   "cell_type": "code",
   "execution_count": null,
   "id": "41dad29e",
   "metadata": {
    "vscode": {
     "languageId": "shellscript"
    }
   },
   "outputs": [],
   "source": [
    "line_number=0\n",
    "while IFS= read -r line; do\n",
    "  j=$(( line_number % 18 ))\n",
    "  output_file=\"Mod18_group_${j}.csv\"\n",
    "  echo \"$line\" >> \"$output_file\"\n",
    "  ((line_number++))\n",
    "done < <(tail -n+2 LCP_22-23_students.csv)\n"
   ]
  },
  {
   "cell_type": "markdown",
   "id": "1d730d21",
   "metadata": {},
   "source": [
    "### Ex 2"
   ]
  },
  {
   "cell_type": "markdown",
   "id": "4b87ecb7",
   "metadata": {},
   "source": [
    "2.a Make a copy of the file `data.csv` removing the metadata and the commas between numbers; call it `data.txt`"
   ]
  },
  {
   "cell_type": "code",
   "execution_count": null,
   "id": "d783f04a",
   "metadata": {
    "vscode": {
     "languageId": "shellscript"
    }
   },
   "outputs": [],
   "source": [
    "\n",
    "#!/bin/bash\n",
    "touch tmp\n",
    "tail -n+4 data.csv > tmp\n",
    "awk 'NR > 1 {for (i=1; i<=NF; i++) gsub(/,/, \" \", $i)}1' tmp > data.txt\n",
    "rm tmp\n",
    "counter=0\n",
    "greater_count=0\n",
    "smaller_count=0\n",
    "\n",
    "\n"
   ]
  },
  {
   "cell_type": "markdown",
   "id": "344048c8",
   "metadata": {},
   "source": [
    "2\\.b How many even numbers are there?"
   ]
  },
  {
   "cell_type": "markdown",
   "id": "2a27138d",
   "metadata": {},
   "source": [
    "2\\.c Distinguish the entries on the basis of `sqrt(X^2 + Y^2 + Z^2)` is greater or smaller than `100*sqrt(3)/2`. Count the entries of each of the two groups "
   ]
  },
  {
   "cell_type": "code",
   "execution_count": null,
   "id": "da4c6e8e",
   "metadata": {
    "vscode": {
     "languageId": "shellscript"
    }
   },
   "outputs": [],
   "source": [
    "while IFS= read -r line; do\n",
    "  IFS=\" \" read -ra fields <<< \"$line\"\n",
    "    X=${fields[0]}\n",
    "    Y=${fields[1]}\n",
    "    Z=${fields[2]}\n",
    "    value=$(echo \"scale=10; sqrt($X^2 + $Y^2 + $Z^2)\" | bc)\n",
    "    threshold=$(echo \"scale=10; 100*sqrt(3)/2\" | bc)\n",
    "    if (( $(echo \"$value > $threshold\" | bc -l) )); then\n",
    "    ((greater_count++))\n",
    "    else\n",
    "    ((smaller_count++))\n",
    "    fi\n",
    "  for field in \"${fields[@]}\"; do\n",
    "    if ((field % 2 == 0)); then\n",
    "      ((counter++))\n",
    "    fi\n",
    "  done\n",
    "done < <(tail -n +2 data.txt)\n",
    "echo \"$counter\"\n",
    "echo \"Entries with sqrt(X^2 + Y^2 + Z^2) > 100*sqrt(3)/2: $greater_count\"\n",
    "echo \"Entries with sqrt(X^2 + Y^2 + Z^2) <= 100*sqrt(3)/2: $smaller_count\""
   ]
  },
  {
   "cell_type": "markdown",
   "id": "e937ef4e",
   "metadata": {},
   "source": [
    "2\\.d Make `n` copies of data.txt (with `n` an input parameter of the script), where the i-th copy has all the numbers divided by i (with `1<=i<=n`)."
   ]
  },
  {
   "cell_type": "code",
   "execution_count": null,
   "id": "8b38ee75",
   "metadata": {
    "vscode": {
     "languageId": "shellscript"
    }
   },
   "outputs": [],
   "source": [
    "\n",
    "\n",
    "if [ $# -ne 1 ]; then\n",
    "  echo \"Usage: $0 <n>\"\n",
    "  exit 1\n",
    "fi\n",
    "n=$1\n",
    "if [ ! -f data.txt ]; then\n",
    "  echo \"data.txt not found.\"\n",
    "  exit 1\n",
    "fi\n",
    "for ((i = 1; i <= n; i++)); do\n",
    "  output_file=\"data_divided_by_${i}.txt\"\n",
    "  awk -v factor=\"$i\" 'NR == 1 {print; next} {for (j = 1; j <= NF; j++) $j /= factor; print}' data.txt > \"$output_file\"\n",
    "  echo \"Created $output_file\"\n",
    "done"
   ]
  }
 ],
 "metadata": {
  "kernelspec": {
   "display_name": "Python 3 (ipykernel)",
   "language": "python",
   "name": "python3"
  },
  "language_info": {
   "codemirror_mode": {
    "name": "ipython",
    "version": 3
   },
   "file_extension": ".py",
   "mimetype": "text/x-python",
   "name": "python",
   "nbconvert_exporter": "python",
   "pygments_lexer": "ipython3",
   "version": "3.11.0"
  }
 },
 "nbformat": 4,
 "nbformat_minor": 5
}
